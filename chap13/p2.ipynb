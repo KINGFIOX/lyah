{
 "cells": [
  {
   "cell_type": "code",
   "execution_count": null,
   "metadata": {
    "vscode": {
     "languageId": "haskell"
    }
   },
   "outputs": [],
   "source": [
    "import Control.Monad.Writer"
   ]
  },
  {
   "cell_type": "code",
   "execution_count": null,
   "metadata": {},
   "outputs": [],
   "source": [
    "logNumber x = Writer (x, [\"Got number: \" ++ show x])"
   ]
  },
  {
   "cell_type": "code",
   "execution_count": null,
   "metadata": {
    "vscode": {
     "languageId": "haskell"
    }
   },
   "outputs": [],
   "source": [
    "multWithLog :: Writer [String] Int  \n",
    "multWithLog = do  \n",
    "    a <- logNumber 3  \n",
    "    b <- logNumber 5  \n",
    "    tell [\"Gonna multiply these two\"]  \n",
    "    return (a*b)  "
   ]
  },
  {
   "cell_type": "code",
   "execution_count": null,
   "metadata": {
    "vscode": {
     "languageId": "haskell"
    }
   },
   "outputs": [],
   "source": [
    "runWriter multWithLog  "
   ]
  },
  {
   "cell_type": "code",
   "execution_count": null,
   "metadata": {
    "vscode": {
     "languageId": "haskell"
    }
   },
   "outputs": [],
   "source": []
  },
  {
   "cell_type": "code",
   "execution_count": null,
   "metadata": {},
   "outputs": [],
   "source": [
    "gcd' :: Int -> Int -> Writer [String] Int\n",
    "gcd' a b\n",
    "  | b == 0 = do\n",
    "      tell [\"Finished with \" ++ show a]\n",
    "      return a\n",
    "  | otherwise = do\n",
    "      tell [show a ++ \" mod \" ++ show b ++ \" = \" ++ show (a `mod` b)]\n",
    "      gcd' b (a `mod` b)"
   ]
  },
  {
   "cell_type": "code",
   "execution_count": null,
   "metadata": {},
   "outputs": [],
   "source": [
    "gcd' 35 49"
   ]
  },
  {
   "cell_type": "markdown",
   "metadata": {},
   "source": [
    "-- finalCountDown :: Int -> Writer [String] ()\n",
    "finalCountDown :: (Eq a, Num a, MonadWriter [String] m, Show a) => a -> m ()\n",
    "finalCountDown 0 = do\n",
    "  tell [\"0\"]\n",
    "finalCountDown x = do\n",
    "  finalCountDown (x - 1)\n",
    "  tell [show x]"
   ]
  },
  {
   "cell_type": "code",
   "execution_count": 10,
   "metadata": {
    "vscode": {
     "languageId": "haskell"
    }
   },
   "outputs": [
    {
     "data": {
      "text/plain": [
       "0\n",
       "1\n",
       "2\n",
       "3\n",
       "4\n",
       "5\n",
       "6\n",
       "7\n",
       "8\n",
       "9\n",
       "10\n",
       "11\n",
       "12\n",
       "13\n",
       "14\n",
       "15\n",
       "16\n",
       "17\n",
       "18\n",
       "19\n",
       "20\n",
       "21\n",
       "22\n",
       "23\n",
       "24\n",
       "25\n",
       "26\n",
       "27\n",
       "28\n",
       "29\n",
       "30\n",
       "31\n",
       "32\n",
       "33\n",
       "34\n",
       "35\n",
       "36\n",
       "37\n",
       "38\n",
       "39\n",
       "40\n",
       "41\n",
       "42\n",
       "43\n",
       "44\n",
       "45\n",
       "46\n",
       "47\n",
       "48\n",
       "49\n",
       "50"
      ]
     },
     "metadata": {},
     "output_type": "display_data"
    }
   ],
   "source": [
    "mapM_ putStrLn . snd . runWriter $ finalCountDown 50"
   ]
  },
  {
   "cell_type": "code",
   "execution_count": 12,
   "metadata": {
    "vscode": {
     "languageId": "haskell"
    }
   },
   "outputs": [
    {
     "data": {
      "text/plain": [
       "55"
      ]
     },
     "metadata": {},
     "output_type": "display_data"
    }
   ],
   "source": [
    "let f = (*5)\n",
    "let g = (+3)\n",
    "(fmap f g) 8"
   ]
  },
  {
   "cell_type": "code",
   "execution_count": 13,
   "metadata": {},
   "outputs": [
    {
     "data": {
      "text/plain": [
       "40"
      ]
     },
     "metadata": {},
     "output_type": "display_data"
    }
   ],
   "source": [
    "f 8"
   ]
  },
  {
   "cell_type": "code",
   "execution_count": 16,
   "metadata": {},
   "outputs": [],
   "source": []
  },
  {
   "cell_type": "code",
   "execution_count": 21,
   "metadata": {},
   "outputs": [
    {
     "data": {
      "text/plain": [
       "55"
      ]
     },
     "metadata": {},
     "output_type": "display_data"
    }
   ],
   "source": [
    "-- f( g(8) ) --> g(8) = 8 + 3 = 11 --> f(11) = 11 * 5 = 55\n",
    "(f.g) 8"
   ]
  },
  {
   "cell_type": "code",
   "execution_count": 22,
   "metadata": {},
   "outputs": [],
   "source": [
    "import System.Random"
   ]
  },
  {
   "cell_type": "code",
   "execution_count": 25,
   "metadata": {},
   "outputs": [
    {
     "ename": "",
     "evalue": "",
     "output_type": "error",
     "traceback": [
      "<interactive>:5:7: error: [GHC-39999]\n    • Ambiguous type variable ‘a2’ GHC Bug #20076 <https://gitlab.haskell.org/ghc/ghc/-/issues/20076>\n                                   Assuming you have a partial type signature, you can avoid this error\n                                   by either adding an extra-constraints wildcard (like `(..., _) => ...`,\n                                   with the underscore at the end of the constraint), or by avoiding the\n                                   use of a simplifiable constraint in your partial type signature.\n      prevents the constraint ‘(Random a2)’ from being solved.\n      Probable fix: use a type annotation to specify what ‘a2’ should be.\n      Potentially matching instances:\n        instance Random Integer -- Defined in ‘System.Random’\n        instance (Random a, Random b) => Random (a, b) -- Defined in ‘System.Random’\n        ...plus 11 others\n        ...plus 30 instances involving out-of-scope types\n        (use -fprint-potential-instances to see them all)\n    • In the expression:\n        let\n          (firstCoin, newGen) = random gen\n          (secondCoin, newGen') = random newGen\n          (thirdCoin, newGen'') = random newGen'\n        in (firstCoin, secondCoin, thirdCoin)\n      In an equation for ‘threeCoins’:\n          threeCoins gen\n            = let\n                (firstCoin, newGen) = random gen\n                (secondCoin, newGen') = random newGen\n                ....\n              in (firstCoin, secondCoin, thirdCoin)\n<interactive>:4:7: error: [GHC-39999]\n    • Ambiguous type variable ‘a1’ GHC Bug #20076 <https://gitlab.haskell.org/ghc/ghc/-/issues/20076>\n                                   Assuming you have a partial type signature, you can avoid this error\n                                   by either adding an extra-constraints wildcard (like `(..., _) => ...`,\n                                   with the underscore at the end of the constraint), or by avoiding the\n                                   use of a simplifiable constraint in your partial type signature.\n      prevents the constraint ‘(Random a1)’ from being solved.\n      Probable fix: use a type annotation to specify what ‘a1’ should be.\n      Potentially matching instances:\n        instance Random Integer -- Defined in ‘System.Random’\n        instance (Random a, Random b) => Random (a, b) -- Defined in ‘System.Random’\n        ...plus 11 others\n        ...plus 30 instances involving out-of-scope types\n        (use -fprint-potential-instances to see them all)\n    • In the expression:\n        let\n          (firstCoin, newGen) = random gen\n          (secondCoin, newGen') = random newGen\n          (thirdCoin, newGen'') = random newGen'\n        in (firstCoin, secondCoin, thirdCoin)\n      In an equation for ‘threeCoins’:\n          threeCoins gen\n            = let\n                (firstCoin, newGen) = random gen\n                (secondCoin, newGen') = random newGen\n                ....\n              in (firstCoin, secondCoin, thirdCoin)\n<interactive>:3:7: error: [GHC-39999]\n    • Ambiguous type variable ‘a0’ GHC Bug #20076 <https://gitlab.haskell.org/ghc/ghc/-/issues/20076>\n                                   Assuming you have a partial type signature, you can avoid this error\n                                   by either adding an extra-constraints wildcard (like `(..., _) => ...`,\n                                   with the underscore at the end of the constraint), or by avoiding the\n                                   use of a simplifiable constraint in your partial type signature.\n      prevents the constraint ‘(Random a0)’ from being solved.\n      Probable fix: use a type annotation to specify what ‘a0’ should be.\n      Potentially matching instances:\n        instance Random Integer -- Defined in ‘System.Random’\n        instance (Random a, Random b) => Random (a, b) -- Defined in ‘System.Random’\n        ...plus 11 others\n        ...plus 30 instances involving out-of-scope types\n        (use -fprint-potential-instances to see them all)\n    • In the expression:\n        let\n          (firstCoin, newGen) = random gen\n          (secondCoin, newGen') = random newGen\n          (thirdCoin, newGen'') = random newGen'\n        in (firstCoin, secondCoin, thirdCoin)\n      In an equation for ‘threeCoins’:\n          threeCoins gen\n            = let\n                (firstCoin, newGen) = random gen\n                (secondCoin, newGen') = random newGen\n                ....\n              in (firstCoin, secondCoin, thirdCoin)"
     ]
    }
   ],
   "source": [
    "threeCoins :: StdGen -> (Bool, Bool, Bool)\n",
    "threeCoins gen =\n",
    "  let (firstCoin, newGen) = random gen\n",
    "      (secondCoin, newGen') = random newGen\n",
    "      (thirdCoin, newGen'') = random newGen'\n",
    "   in (firstCoin, secondCoin, thirdCoin)"
   ]
  },
  {
   "cell_type": "code",
   "execution_count": null,
   "metadata": {},
   "outputs": [],
   "source": []
  }
 ],
 "metadata": {
  "kernelspec": {
   "display_name": "Haskell",
   "language": "haskell",
   "name": "haskell"
  },
  "language_info": {
   "codemirror_mode": "ihaskell",
   "file_extension": ".hs",
   "mimetype": "text/x-haskell",
   "name": "haskell",
   "pygments_lexer": "Haskell",
   "version": "9.6.4"
  }
 },
 "nbformat": 4,
 "nbformat_minor": 4
}
